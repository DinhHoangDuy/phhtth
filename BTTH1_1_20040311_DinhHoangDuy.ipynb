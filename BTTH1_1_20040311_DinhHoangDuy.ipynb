{
  "cells": [
    {
      "cell_type": "markdown",
      "metadata": {
        "id": "QeJnAhWIDHEy"
      },
      "source": [
        "# Họ và tên: Đinh Hoàng Duy\n",
        "# MSSV: 20040311\n",
        "# Lớp học phần - Nhóm TH: 420300207401 - Nhóm 3"
      ]
    },
    {
      "cell_type": "markdown",
      "metadata": {
        "id": "cnc6acI9DHFB"
      },
      "source": [
        "# 1. Hello world!"
      ]
    },
    {
      "cell_type": "code",
      "execution_count": 1,
      "metadata": {
        "colab": {
          "base_uri": "https://localhost:8080/"
        },
        "id": "M1cphMLzDHFD",
        "outputId": "80a47d2c-3aac-4692-8e00-498c5be88405"
      },
      "outputs": [
        {
          "output_type": "stream",
          "name": "stdout",
          "text": [
            "Hello World!\n"
          ]
        }
      ],
      "source": [
        "print(\"Hello World!\")"
      ]
    },
    {
      "cell_type": "markdown",
      "metadata": {
        "id": "ZdjWYuOODHFO"
      },
      "source": [
        "# 2. Program to Add Two Numbers"
      ]
    },
    {
      "cell_type": "markdown",
      "metadata": {
        "id": "lszAVu97DHFP"
      },
      "source": [
        "## Add Two Numbers"
      ]
    },
    {
      "cell_type": "code",
      "execution_count": 2,
      "metadata": {
        "colab": {
          "base_uri": "https://localhost:8080/"
        },
        "id": "oDXINzgKDHFR",
        "outputId": "d3828912-4d67-432d-98ff-fbd21192ca24"
      },
      "outputs": [
        {
          "output_type": "stream",
          "name": "stdout",
          "text": [
            "3.0\n"
          ]
        }
      ],
      "source": [
        "num1 = 1.5\n",
        "num2 = 6.3\n",
        "\n",
        "### START CODE HERE ###\n",
        "# Add two numbers\n",
        "\n",
        "sum = num1 + num1\n",
        "\n",
        "# Display the sum\n",
        "print(sum)"
      ]
    },
    {
      "cell_type": "markdown",
      "metadata": {
        "id": "27z4p85yDHFS"
      },
      "source": [
        "##  Add Two Numbers With User Input"
      ]
    },
    {
      "cell_type": "code",
      "execution_count": 5,
      "metadata": {
        "colab": {
          "base_uri": "https://localhost:8080/"
        },
        "id": "f9esNpJuDHFT",
        "outputId": "486f25d2-8ee8-4cdf-bf5f-92e7d5da5f22"
      },
      "outputs": [
        {
          "output_type": "stream",
          "name": "stdout",
          "text": [
            "Enter num1: 99\n",
            "Enter num2: 11\n",
            "110\n"
          ]
        }
      ],
      "source": [
        "# Store input numbers\n",
        "num1 = input(\"Enter num1: \")\n",
        "num2 = input(\"Enter num2: \")\n",
        "\n",
        "# Convert them into INT\n",
        "num1 = int(num1)\n",
        "num2 = int(num2)\n",
        "\n",
        "### START CODE HERE ###\n",
        "\n",
        "# Add two numbers\n",
        "sum = num1 + num2\n",
        "\n",
        "### END CODE HERE ###\n",
        "\n",
        "# Display the sum\n",
        "print(sum)"
      ]
    },
    {
      "cell_type": "markdown",
      "metadata": {
        "id": "SuGOfrWJDHFU"
      },
      "source": [
        "# 3. Program to Find the Square Root"
      ]
    },
    {
      "cell_type": "code",
      "execution_count": 7,
      "metadata": {
        "colab": {
          "base_uri": "https://localhost:8080/"
        },
        "id": "uEXjVkCCDHFV",
        "outputId": "4ef8e67f-c866-4f9e-9c75-45889cf70f17"
      },
      "outputs": [
        {
          "output_type": "stream",
          "name": "stdout",
          "text": [
            "3.0\n"
          ]
        }
      ],
      "source": [
        "# Python Program to calculate the square root\n",
        "import math\n",
        "# Note: change this value for a different result\n",
        "num = 8\n",
        "\n",
        "# To take the input from the user\n",
        "#num = float(input('Enter a number: '))\n",
        "\n",
        "# calculate the square root\n",
        "\n",
        "square_root = math.sqrt(num)\n",
        "# print the value of the square root\n",
        "print (square_root)\n"
      ]
    },
    {
      "cell_type": "markdown",
      "metadata": {
        "id": "smP-fI1TDHFX"
      },
      "source": [
        "# 4. Program to Calculate the Area of a Triangle\n",
        "s = (a+b+c)/2\n",
        "\n",
        "area = √(s(s-a)*(s-b)*(s-c))"
      ]
    },
    {
      "cell_type": "code",
      "execution_count": 11,
      "metadata": {
        "colab": {
          "base_uri": "https://localhost:8080/"
        },
        "id": "EM1NCoPoDHFZ",
        "outputId": "3e3a16aa-4fc5-4b66-be02-dd63b8dcc627"
      },
      "outputs": [
        {
          "output_type": "stream",
          "name": "stdout",
          "text": [
            "Type a: 8\n",
            "Type b: 6\n",
            "Type c: 12\n",
            "The area of the triangle is 21.33\n"
          ]
        }
      ],
      "source": [
        "### START CODE HERE ###\n",
        "\n",
        "# take inputs from the user\n",
        "a = int(input('Type a: '))\n",
        "b = int(input('Type b: '))\n",
        "c = int(input('Type c: '))\n",
        "\n",
        "\n",
        "# calculate the semi-perimeter\n",
        "s = (a+b+c)/2\n",
        "\n",
        "# calculate the area\n",
        "a = s-a\n",
        "b = s-b\n",
        "c = s-c\n",
        "area = math.sqrt(s * a * b * c)\n",
        "\n",
        "### END CODE HERE ###\n",
        "\n",
        "print('The area of the triangle is %0.2f' %area)"
      ]
    },
    {
      "cell_type": "markdown",
      "metadata": {
        "id": "FnaYbmbaDHFb"
      },
      "source": [
        "# 5. Program to Solve Quadratic Equation\n",
        "ax2 + bx + c = 0, where a, b and c are real numbers and a ≠ 0"
      ]
    },
    {
      "cell_type": "code",
      "execution_count": null,
      "metadata": {
        "id": "CNyo0jRVDHFc"
      },
      "outputs": [],
      "source": [
        "import cmath\n",
        "\n",
        "### START CODE HERE ###\n",
        "\n",
        "# take inputs from the user\n",
        "a = int(input('Type a: '))\n",
        "b = int(input('Type b: '))\n",
        "c = int(input('Type c: '))\n",
        "\n",
        "# Check Quadratic Equation requirements (a != 0)\n",
        "if (a == 0) :\n",
        "  print ('This is not Quadratic Equation!')\n",
        "else:\n",
        "  # calculate the discriminant\n",
        "  d = b*b - (4*a*c)\n",
        "  if (d < 0): print (\"Quadratic Equation doesn't have real root\")\n",
        "  else:\n",
        "    sqrt_d = math.sqrt(d)\n",
        "    # find two solutions using square root for real/complex number\n",
        "    sol1 = (-b + sqrt_d) / (2*a)\n",
        "    sol2 = (-b - sqrt_d) / (2*a)\n",
        "### END CODE HERE ###\n",
        "    if (sol1 == sol2) :\n",
        "      print('The solution is {0}'.format(sol1))\n",
        "    else :\n",
        "      print('The solution are {0} and {1}'.format(sol1,sol2))\n"
      ]
    },
    {
      "cell_type": "markdown",
      "metadata": {
        "id": "GQLlhQmoDHFe"
      },
      "source": [
        "# 6. Program to Swap Two Variables"
      ]
    },
    {
      "cell_type": "code",
      "execution_count": 26,
      "metadata": {
        "colab": {
          "base_uri": "https://localhost:8080/"
        },
        "id": "w6iyCKMpDHFf",
        "outputId": "84245573-f353-4b02-e5d7-a01f1ef25787"
      },
      "outputs": [
        {
          "output_type": "stream",
          "name": "stdout",
          "text": [
            "Type x: 9\n",
            "Type y: 10\n",
            "x: 10\n",
            "y: 9\n"
          ]
        }
      ],
      "source": [
        "# To take inputs from the user\n",
        "x = int(input('Type x: '))\n",
        "y = int(input('Type y: '))\n",
        "\n",
        "# create a temporary variable and swap the values\n",
        "temp = x\n",
        "# Print the c=value of x, y after swapping\n",
        "x = y\n",
        "y = temp\n",
        "print('x = %d' %x)\n",
        "print('y = %d' %y)\n"
      ]
    },
    {
      "cell_type": "code",
      "execution_count": 27,
      "metadata": {
        "colab": {
          "base_uri": "https://localhost:8080/"
        },
        "id": "m5xK9_jfDHFg",
        "outputId": "f5fb62b3-1948-435f-960f-ec7469a0c07e"
      },
      "outputs": [
        {
          "output_type": "stream",
          "name": "stdout",
          "text": [
            "133232759702032\n",
            "133232759702000\n",
            "133232759702000\n"
          ]
        }
      ],
      "source": [
        "### START CODE HERE ###\n",
        "# writing code to get the address (in RAM) of x, y, temp through the built-in function id()\n",
        "print (id(x))\n",
        "print (id(y))\n",
        "print (id(temp))\n",
        "### END CODE HERE ###"
      ]
    },
    {
      "cell_type": "markdown",
      "metadata": {
        "id": "SynG7lWHDHFh"
      },
      "source": [
        "# 7. Program to Generate a Random Number\n",
        "https://docs.python.org/3/library/random.html"
      ]
    },
    {
      "cell_type": "code",
      "execution_count": 21,
      "metadata": {
        "colab": {
          "base_uri": "https://localhost:8080/"
        },
        "id": "dwOkPw9RDHFi",
        "outputId": "fb590e01-1168-44f4-8d7c-d33ffb007a7f"
      },
      "outputs": [
        {
          "output_type": "stream",
          "name": "stdout",
          "text": [
            "5\n",
            "6\n",
            "3\n",
            "0.3801300528758891\n",
            "-2.16116774227325\n"
          ]
        }
      ],
      "source": [
        "# Program to generate a random number between 0 and 9\n",
        "\n",
        "# importing the random module\n",
        "import random\n",
        "\n",
        "print(random.randint(0,9))\n",
        "\n",
        "# Uncomment to try different function in random module\n",
        "# print(random.randrange(9))\n",
        "# print(random.randrange(3,9))\n",
        "# print(random.random())\n",
        "# print(random.uniform(a,b))"
      ]
    },
    {
      "cell_type": "markdown",
      "metadata": {
        "id": "FKwo6VW_DHFj"
      },
      "source": [
        "# 8. Program to Convert Kilometers to Miles\n",
        "1 km = (1/1.609344) mi = 0.62137119 mi"
      ]
    },
    {
      "cell_type": "code",
      "execution_count": null,
      "metadata": {
        "id": "SyawejfbDHFj",
        "outputId": "101ba4c1-99cf-46c8-aed4-b58cef649c57"
      },
      "outputs": [
        {
          "name": "stdout",
          "output_type": "stream",
          "text": [
            "56.00 kilometers is equal to 34.80 miles\n"
          ]
        }
      ],
      "source": [
        "# Taking kilometers input from the user\n",
        "kilometers = float(input(\"Enter value in kilometers: \"))\n",
        "\n",
        "# conversion factor\n",
        "conv_fac = 0.621371\n",
        "\n",
        "# calculate miles\n",
        "miles = kilometers * conv_fac\n",
        "print('%0.2f kilometers is equal to %0.2f miles' %(kilometers,miles))"
      ]
    },
    {
      "cell_type": "code",
      "execution_count": 23,
      "metadata": {
        "colab": {
          "base_uri": "https://localhost:8080/"
        },
        "id": "Y2KvodIoDHFk",
        "outputId": "cfcb91b9-9d53-4b26-c48e-82a85ae51688"
      },
      "outputs": [
        {
          "output_type": "stream",
          "name": "stdout",
          "text": [
            "Enter value in kilometers: 93\n",
            "93.00 kilometers is equal to 149.67 miles\n"
          ]
        }
      ],
      "source": [
        "### START CODE HERE ###\n",
        "# writing code to convert miles to kilometers\n",
        "miles = float(input(\"Enter value in miles: \"))\n",
        "\n",
        "# conversion factor\n",
        "conv_fac = 1.609344\n",
        "\n",
        "# calculate miles\n",
        "kilometers = miles * conv_fac\n",
        "print('%0.2f kilometers is equal to %0.2f miles' %(miles,kilometers))\n",
        "### END CODE HERE ###"
      ]
    },
    {
      "cell_type": "markdown",
      "metadata": {
        "id": "o_tXSwQsDHFl"
      },
      "source": [
        "# 9. Program to Convert Celsius To Fahrenheit\n",
        "T(°F) = T(°C) × 1.8 + 32"
      ]
    },
    {
      "cell_type": "code",
      "execution_count": 24,
      "metadata": {
        "colab": {
          "base_uri": "https://localhost:8080/"
        },
        "id": "68e9Tmj7DHFm",
        "outputId": "b757a89e-8c5e-4181-fc1e-d2559359e945"
      },
      "outputs": [
        {
          "output_type": "stream",
          "name": "stdout",
          "text": [
            "Enter value in Celsius: 163\n",
            "163.00 Celsius is equal to 325.40 Fahrenheit\n"
          ]
        }
      ],
      "source": [
        "### START CODE HERE ###\n",
        "# Taking celsius input from the user\n",
        "Celsius = float(input(\"Enter value in Celsius: \"))\n",
        "\n",
        "# conversion factor\n",
        "Fahrenheit = (Celsius * 1.8) +32\n",
        "\n",
        "# calculate Fahrenheit\n",
        "\n",
        "\n",
        "# print result\n",
        "print('%0.2f Celsius is equal to %0.2f Fahrenheit' %(Celsius,Fahrenheit))\n",
        "### END CODE HERE ###"
      ]
    }
  ],
  "metadata": {
    "kernelspec": {
      "display_name": "Python 3",
      "language": "python",
      "name": "python3"
    },
    "language_info": {
      "codemirror_mode": {
        "name": "ipython",
        "version": 3
      },
      "file_extension": ".py",
      "mimetype": "text/x-python",
      "name": "python",
      "nbconvert_exporter": "python",
      "pygments_lexer": "ipython3",
      "version": "3.10.13"
    },
    "colab": {
      "provenance": []
    }
  },
  "nbformat": 4,
  "nbformat_minor": 0
}